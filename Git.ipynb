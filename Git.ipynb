{
 "cells": [
  {
   "cell_type": "markdown",
   "id": "cb4a9ecb-4f4f-4f4c-8729-5be1b6472095",
   "metadata": {},
   "source": [
    "# Introduction to Git"
   ]
  },
  {
   "cell_type": "markdown",
   "id": "ded2b672-b104-4bad-9d73-097a1627a402",
   "metadata": {},
   "source": [
    "<div style=\"text-align: right\"> Wooyong Park, Yonsei University </div>\n",
    "<div style=\"text-align: right\"> Material from Datacamp </div>"
   ]
  },
  {
   "cell_type": "markdown",
   "id": "9eee48ee-2303-46a0-a53c-c11382f130a3",
   "metadata": {},
   "source": [
    "## 1. Introduction to a Version Control"
   ]
  },
  {
   "cell_type": "markdown",
   "id": "b6a20634-d71c-4c60-8f43-4f023166df2d",
   "metadata": {},
   "source": [
    "* `pwd`: returns the current working directory\n",
    "* `ls`: returns the files inside the current directory\n",
    "* `cd [dirname]`: changes the directory to the specificed directory name"
   ]
  },
  {
   "cell_type": "markdown",
   "id": "ce47d9e9-231b-4e6b-8301-8a0a81fa1bfb",
   "metadata": {},
   "source": [
    "### 1.1. Editing a File"
   ]
  },
  {
   "cell_type": "markdown",
   "id": "a7c5a202-7059-422e-88bb-1c410ac28789",
   "metadata": {},
   "source": [
    "* `nano [filename]`: can be used to delete, add, or change contents of a file\n",
    "* `echo` : can be used to create/edit a file\\\n",
    "      * **Create**  - `echo [content] > [filename]`\\\n",
    "      * **Edit**    -`echo [content] >> [filename]`\n",
    "* `Ctrl + O` & `Ctrl + X`: is the shortcut to save file"
   ]
  },
  {
   "cell_type": "markdown",
   "id": "2bdf82b7-397c-43d5-81a7-7d4b52f28271",
   "metadata": {},
   "source": [
    "### 1.2. Checking Git Version"
   ]
  },
  {
   "cell_type": "markdown",
   "id": "ea69042d-8443-40a7-9bfb-931ac3753b78",
   "metadata": {},
   "source": [
    "* `git --version`: returns which version of Git is installed"
   ]
  },
  {
   "cell_type": "markdown",
   "id": "d6b53415-926d-4223-9591-7226ecaa9f82",
   "metadata": {},
   "source": [
    "### 1.3. Saving Files"
   ]
  },
  {
   "cell_type": "markdown",
   "id": "45808b24-90fe-4af2-8e58-ac9bf0f673f9",
   "metadata": {},
   "source": [
    "### 1.4. Repository (Git Project)"
   ]
  },
  {
   "cell_type": "markdown",
   "id": "0c107728-aed4-4772-a6a3-0b6c1f75397e",
   "metadata": {},
   "source": [
    "A Git project consists of two parts: (1) the files and directories we create and edit, (2) the Git storage with the name `.git`.\n",
    "\n",
    "The combination of these two parts is called a repository, often referred to as a repo."
   ]
  },
  {
   "cell_type": "markdown",
   "id": "c3e6c197-9bac-47d2-a850-6a42fd1d4e56",
   "metadata": {},
   "source": [
    "* **Staging**: Putting files in the staging area is like placing a letter in an envelope.\n",
    "* **Committing**: Making a commit is like putting the envelope in a mailbox. After comit, you can't make any further changes."
   ]
  },
  {
   "cell_type": "markdown",
   "id": "746e3641-ed5a-4f10-a79c-f9c608d86e5b",
   "metadata": {},
   "source": [
    "* `ls -a`: shows the hidden files in the current directory, including `.git` file"
   ]
  },
  {
   "cell_type": "markdown",
   "id": "239b8517-8556-4f11-94be-4af138f36104",
   "metadata": {},
   "source": [
    "#### 1.4.1. Staging\n",
    "* `git add [filename]`: adds a single file to the staging area\n",
    "* `git add .`: adds all files in the current directory to the staging area"
   ]
  },
  {
   "cell_type": "markdown",
   "id": "4355e4d0-f889-4896-89a9-aac9f8380fef",
   "metadata": {},
   "source": [
    "#### 1.4.2. Committing\n",
    "* `git commit -m \"log message here\"`: `git commit` makes a commit and the suffix `-m` adds *log message* for the commit."
   ]
  },
  {
   "cell_type": "markdown",
   "id": "cf6b27a7-60e6-4a6d-8751-4c4a455d019b",
   "metadata": {},
   "source": [
    "#### 1.4.3. Checking Status\n",
    "* `git status`: tells us which files are in the staging area, and which files have changes that aren't in the staging area yet."
   ]
  },
  {
   "cell_type": "markdown",
   "id": "555c0d95-0f2a-4bd2-8e49-d2966005769e",
   "metadata": {},
   "source": [
    "### 1.5. Comparing files"
   ]
  },
  {
   "cell_type": "markdown",
   "id": "96937154-2a57-4d55-9aa0-eefc4ad9418d",
   "metadata": {},
   "source": [
    "#### 1.5.1. Unstaged Version vs Committed Version"
   ]
  },
  {
   "cell_type": "markdown",
   "id": "0e83e59a-c0f5-407f-b75d-ebbfc1e84fc8",
   "metadata": {},
   "source": [
    "* `git diff [filename]`:compares the unstaged version of a file to the last commit\n",
    "\n",
    " The line with the two `@@` symbols tells us the location of the changes.\\\n",
    " The line that starts with `-` symbol tells us the line that is erased in the unstaged version.\\\n",
    " The line that starts with `+` symbol tells us what is added."
   ]
  },
  {
   "cell_type": "markdown",
   "id": "86e85b90-a1e6-4917-941a-b8abcda7e268",
   "metadata": {},
   "source": [
    "#### 1.5.2. Staged Version vs Committed Version"
   ]
  },
  {
   "cell_type": "markdown",
   "id": "04590fef-132e-4c85-8b40-d5014bcfac6d",
   "metadata": {},
   "source": [
    "* `git diff -r HEAD [filename]`: compares the staged version of a file to the last commit\n",
    "\n",
    "`-r` indicates that we want to look at a particular revision of a file.\\\n",
    "`HEAD` is a shortcut for the last commit of the file."
   ]
  },
  {
   "cell_type": "markdown",
   "id": "5a58c6cd-0434-48a8-b28e-3fdab9974461",
   "metadata": {},
   "source": [
    "According to ChatGPT, the code above is wrong. ChatGPT recommends the following code instead.\n",
    "\n",
    "* `git diff --staged`: compares the staged version to the last commit."
   ]
  },
  {
   "cell_type": "markdown",
   "id": "bfa421b4-4100-4964-a77f-9092d37cc997",
   "metadata": {},
   "source": [
    "#### 1.5.3. Multiple Staged Files vs Committed Version"
   ]
  },
  {
   "cell_type": "markdown",
   "id": "9ec14780-7550-4a17-89b0-0f4afc0329da",
   "metadata": {},
   "source": [
    "* `git diff -r HEAD`: compares the staged version to the committed version of *all the files in the directory*"
   ]
  },
  {
   "cell_type": "markdown",
   "id": "54b682e8-f337-4e3c-8285-5797bcb8c393",
   "metadata": {},
   "source": [
    "### 1.6. Storing data with Git"
   ]
  },
  {
   "cell_type": "markdown",
   "id": "75b33d00-9745-4764-8cb1-094d8cc91be9",
   "metadata": {},
   "source": [
    "Git commits have three parts:\n",
    "\n",
    "* **Commit**: contains the metadata\n",
    "* **Tree**: tracks the names and locations in the repo\n",
    "* **Blob**: binary large object(contains data of any kind, compressed snapshot of a file's contents)"
   ]
  },
  {
   "cell_type": "markdown",
   "id": "ed35e485-e94b-4156-a541-bcf3c2a68cce",
   "metadata": {},
   "source": [
    "* `git log`: displays all the commits made to the repo in chronological order, starting with the oldest.\n",
    "\n",
    "* Press `space` to show more recent commits.\n",
    "\n",
    "* Press `q` to quit the log and return to the terminal."
   ]
  },
  {
   "cell_type": "markdown",
   "id": "5fcf695a-e04a-4072-b53e-49ff43d47745",
   "metadata": {},
   "source": [
    "### 1.6.1. Git Hash"
   ]
  },
  {
   "cell_type": "markdown",
   "id": "737f399e-4bdb-4267-a94f-056cf6cb60be",
   "metadata": {},
   "source": [
    "A hash is a unique indentifier that enables Git to share data efficiently between repos. If two files are the same, their hashs will be the same. Therefore, Git can tell what information needs to be saved in which location by comparing hashes."
   ]
  },
  {
   "cell_type": "markdown",
   "id": "8dc59f0e-0ab2-425f-92af-a513aa1682d6",
   "metadata": {},
   "source": [
    "To find a particular commit, we would open `git log`. After that, we copy the first 6-8 characters of the hash, and run `git show [hash 6-8 first characters]` to find out that particualr commit content."
   ]
  },
  {
   "cell_type": "markdown",
   "id": "fa295e7d-e409-430b-83c7-acf9be49e073",
   "metadata": {},
   "source": [
    "* `git log`: opens the commitment log\n",
    "* `git show [hash 6-8 first characters]`: shows the details of the commitment with the specified hash\n",
    "* `git diff [hash1] [hash2]`: compares the two commitments with the specified hash"
   ]
  },
  {
   "cell_type": "markdown",
   "id": "f6b336a1-3058-4972-a654-25a72154f12b",
   "metadata": {},
   "source": [
    "### 1.7. Viewing Changes"
   ]
  },
  {
   "cell_type": "markdown",
   "id": "85f0f7c0-79e5-4d1c-8868-060e1fff6282",
   "metadata": {},
   "source": [
    "#### 1.7.1. The `HEAD` shortcut"
   ]
  },
  {
   "cell_type": "markdown",
   "id": "0ef55568-aa6b-471d-9e4b-7dd4bcc072fe",
   "metadata": {},
   "source": [
    "Use `~` to pick a specific commit to compare versions.\n",
    "\n",
    "* `HEAD~1`: the second most recent commit\n",
    "* `HEAD~2`: the third most recent commit\n",
    "\n",
    "**NOTE**: must not use spaces before or after the tilde `~`"
   ]
  },
  {
   "cell_type": "markdown",
   "id": "6d86e021-e082-4cd1-a654-31c8cf08fcd9",
   "metadata": {},
   "source": [
    "* `git show HEAD~3`: shows the details of fourth most recent commit\n",
    "* `git diff HEAD~2 HEAD~1`: compares the third most recent commit and the second most recent commit"
   ]
  },
  {
   "cell_type": "markdown",
   "id": "fa07d6f7-a0b1-45c0-b01a-627c9ba701ab",
   "metadata": {},
   "source": [
    "#### 1.7.2. Changes per document by line"
   ]
  },
  {
   "cell_type": "markdown",
   "id": "94a3055e-5172-4312-9b61-1240a60d2ef8",
   "metadata": {},
   "source": [
    "* `git annotate [filename]`: displays the detail of changes in commitment per document by line(hash, author, time, line#, line content)"
   ]
  },
  {
   "cell_type": "markdown",
   "id": "59d716d3-9e37-45ae-aeb9-ef58b7e27175",
   "metadata": {},
   "source": [
    "### 1.8. Undoing changes before Commit"
   ]
  },
  {
   "cell_type": "markdown",
   "id": "dc1c419e-e2c7-447d-b9ea-5caa937100be",
   "metadata": {},
   "source": [
    "#### 1.8.1. Unstaging a File\n",
    "* `git reset HEAD [filename]`: unstages a single file from the staging area\n",
    "* `git reset HEAD`: unstages all files from the staging area"
   ]
  },
  {
   "cell_type": "markdown",
   "id": "06865fbf-f72f-4fd3-ada1-29644affad2d",
   "metadata": {},
   "source": [
    "Why do we need `HEAD` when unstaging files from the staging area? What we do through `git reset HEAD` is we instruct Git to match the staging area with the current commit state. Thus, we do need to call `HEAD` so that the last buffer zone(i.e. the staging area) matches the last commit."
   ]
  },
  {
   "cell_type": "markdown",
   "id": "0a8d63ae-5419-49e1-8958-c9f66a98e771",
   "metadata": {},
   "source": [
    "#### 1.8.2. Undoing changes to an unstaged file\n",
    "* `git checkout -- [filename]`: reverses the unstaged file to the commited version\n",
    "* `git checkout .`: reverses all unstaged files in current directory and any subdirectories to the commited version"
   ]
  },
  {
   "cell_type": "markdown",
   "id": "9c1a05e4-6752-406a-a5d3-64f5b222700f",
   "metadata": {},
   "source": [
    "`checkout` means switching to a different version(default to the last commit)"
   ]
  },
  {
   "cell_type": "markdown",
   "id": "5dff61f8-80ea-430a-a1e3-95faff14c176",
   "metadata": {},
   "source": [
    "#### 1.8.3. The sequence of unstaging, undoing changes, making changes, restaging, recommitting"
   ]
  },
  {
   "cell_type": "markdown",
   "id": "a0f4c786-c3e8-4da7-9901-656e2ed0c70c",
   "metadata": {},
   "source": [
    "```\n",
    "git reset HEAD\n",
    "git checkout .\n",
    "nano [filename]\n",
    "git add .\n",
    "git commit -m \"log message\"\n",
    "```"
   ]
  },
  {
   "cell_type": "markdown",
   "id": "862b01dd-07c9-4672-9646-376f7e9a4755",
   "metadata": {},
   "source": [
    "### 1.9. Restoring and reverting"
   ]
  },
  {
   "cell_type": "markdown",
   "id": "7f01aa7f-cf8a-43ef-bd5f-a387ee015ec3",
   "metadata": {},
   "source": [
    "#### 1.9.1. Customizing the log output\n",
    "If the project scale is large, `git log` alone would display excessive amount of commits. Therefore, customizing the log output would be adequate."
   ]
  },
  {
   "cell_type": "markdown",
   "id": "19eddfdc-c4ed-4da7-9c79-154862e31a59",
   "metadata": {},
   "source": [
    "* `git log -3`: restricts the number of commits to three\n",
    "* `git log -3 [filename]`: displays three most recent commit of the specified file\n",
    "* `git log --since='Month Day Year'`: displays only the commits made since the specified date\n",
    "* `git log --since 'M D Y' --until='M D Y'`: displays only the commits made between the specified dates"
   ]
  },
  {
   "cell_type": "markdown",
   "id": "82919e7f-bc14-48b0-90da-78d2ab2d053a",
   "metadata": {},
   "source": [
    "#### 1.9.2. Restoring an old version of a file\n",
    "* `git checkout -- [filename]`: reverts the unstored file to its last commit\n",
    "* `git checkout [hash 6-8] [filename]`: reverts the unstored file to the specified commit\n",
    "* `git checkout HEAD~1 [filename]`: reverts the unstored file to the second to last commit"
   ]
  },
  {
   "cell_type": "markdown",
   "id": "3708b51e-b636-450f-88fb-e3ac76ff522f",
   "metadata": {},
   "source": [
    "#### 1.9.3. Restoring a repo to a previous state\n",
    "* `git checkout --`\n",
    "* `git checkout [hash 6-8]`\n",
    "* `git checkout HEAD~1`"
   ]
  },
  {
   "cell_type": "markdown",
   "id": "4ecaad33-dedd-483c-9230-927a55355ac7",
   "metadata": {},
   "source": [
    "#### 1.9.4. Cleaning a repository\n",
    "* `git clean -n`: displays which files are not being tracked\n",
    "* `git clean -f`: deletes the files that are not being tracked"
   ]
  },
  {
   "cell_type": "markdown",
   "id": "f453889c-1155-48f1-b590-e26985256cc7",
   "metadata": {},
   "source": [
    "## 2. Git Workflows"
   ]
  },
  {
   "cell_type": "markdown",
   "id": "5b80f8e6-7c53-48f7-878c-112be0e437d6",
   "metadata": {},
   "source": [
    "### 2.1. Configuring Git"
   ]
  },
  {
   "cell_type": "markdown",
   "id": "4e769bca-c04d-484e-9f4e-255315ffc597",
   "metadata": {},
   "source": [
    "* `git config --list`: displays a list of customizable settings"
   ]
  },
  {
   "cell_type": "markdown",
   "id": "682c62f1-ef6b-441b-a4ca-70fa78ce9b8c",
   "metadata": {},
   "source": [
    "Git has three levels of settings:\n",
    "\n",
    "1. `--local`: settings for one specific project\n",
    "2. `--global`: settings for all of the projects\n",
    "3. `--system`: settings for every users on the computer"
   ]
  },
  {
   "cell_type": "markdown",
   "id": "aa1c0a96-fa1c-4cd7-b280-d26d9a6d717d",
   "metadata": {},
   "source": [
    "An example of `git config --list`:\n",
    "\n",
    "```\n",
    "(base) Tommysui-MacBookPro:~ tommy$ git config --list\n",
    "credential.helper=osxkeychain\n",
    "init.defaultbranch=main\n",
    "filter.lfs.clean=git-lfs clean -- %f\n",
    "filter.lfs.smudge=git-lfs smudge -- %f\n",
    "filter.lfs.process=git-lfs filter-process\n",
    "filter.lfs.required=true\n",
    "user.name=wyeconomics\n",
    "user.email=tommypark822@gmail.com\n",
    "```"
   ]
  },
  {
   "cell_type": "markdown",
   "id": "f994f2e7-e9f2-46d5-9546-bd3ce321370b",
   "metadata": {},
   "source": [
    "#### 2.1.1. Changing the Settings\n",
    "* `git config --global [setting] [value]`: changes the particular setting to the specified value"
   ]
  },
  {
   "cell_type": "markdown",
   "id": "8f2f9e14-db35-470a-a0cb-4485242c0dfe",
   "metadata": {},
   "source": [
    "#### 2.1.2. Using an alias\n",
    "By executing `alias.[aliasname]`, one can create an alias for committing files. This is typically used to shorten a command.\n",
    "\n",
    "* `git config --global alias.[aliasname] [command]`: creates a global alias for the specified command"
   ]
  },
  {
   "cell_type": "markdown",
   "id": "8628afa3-fd01-4688-b445-598f8d9a77c4",
   "metadata": {},
   "source": [
    "The following is a nice example.\n",
    "```\n",
    "git config --global alias.unstage 'reset HEAD'\n",
    "```\n",
    "\n",
    "Then entering `git unstage` would be equivalent to `git reset HEAD`."
   ]
  },
  {
   "cell_type": "markdown",
   "id": "a1f5d50a-cd02-4da7-a21b-60024e17086a",
   "metadata": {},
   "source": [
    "#### 2.1.3. Tracking aliases\n",
    "Git traks aliases by storing them in a `.gitconfig` file. One can access it by calling `git config --global --list`;"
   ]
  },
  {
   "cell_type": "markdown",
   "id": "abcdd99f-9a16-4b11-8d74-310b22a9cdfa",
   "metadata": {},
   "source": [
    "#### 2.1.3. Ignoring specific files\n",
    "We can ignore certain files by creating a file called `.gitignore`\n",
    "* `nano .gitignore`: creates a `.gitignore` file."
   ]
  },
  {
   "cell_type": "markdown",
   "id": "8803a2f1-f92d-45bb-a9b2-3f9c2ca99678",
   "metadata": {},
   "source": [
    "Using the `.gitignore` file, we can specify which files should be ignored. For example, if we add `*.log` to the `.gitignore` file, Git will ignore any file ending with `.log`;"
   ]
  },
  {
   "cell_type": "markdown",
   "id": "78a44383-29b8-4d36-87f6-5abe69c28d77",
   "metadata": {},
   "source": [
    "### 2.2. Branches"
   ]
  },
  {
   "cell_type": "markdown",
   "id": "cd4c7b4b-d890-460e-bc8b-a0b5d4168ee9",
   "metadata": {},
   "source": [
    "Git uses **branches** to systematically track multiple versions of files.\\\n",
    "Branches are how directories are segmented in the process of their commit.\\\n",
    "Suppose we want to merge two commits from different branches. Then,\n",
    "\n",
    "* `source`: is the branch we want to merge *from*\n",
    "* `destination`: is the branch we want to merge *to*"
   ]
  },
  {
   "cell_type": "markdown",
   "id": "e778d694-e4df-4bd0-af16-43555ee3a0f1",
   "metadata": {},
   "source": [
    "* `git branch`: displays what branches exist for the project(one with the asterisk`*` is the branch the user is currently at)\n",
    "* `git checkout -b [branchname]`: creates a new branch and moves to it\n",
    "* `git diff branch1 branch2`: displays the differences between branches\n",
    "* `git checkout [branchname]`: moves us to the specified *existing* branch\n",
    "* `git merge [source] [destination]`: merges the source commit to the destination commit"
   ]
  },
  {
   "cell_type": "markdown",
   "id": "1c16fe31-9456-4221-9160-a0c3b7ae5d71",
   "metadata": {},
   "source": [
    "When working on projects, developing across different components is common. This is the reason why switching branches is helpful, as it allows us to keep making progress concurrently. Suppose we want to test some new ideas, but we don't want to change our existing code until we have confirmed it works."
   ]
  },
  {
   "cell_type": "markdown",
   "id": "6cd35c2f-4dee-46b0-a1f3-64dbdc55c00a",
   "metadata": {},
   "source": [
    "One can think of the `main` branch as the **ground truth**. Each branch exists for a specific task, and once the task is complete and the process is confirmed to be ground true, it is then merged to the `main` branch."
   ]
  },
  {
   "cell_type": "markdown",
   "id": "c19a2ca5-8d93-440c-9491-d5ce015a1bf6",
   "metadata": {},
   "source": [
    "### 2.3. Handling Conflict"
   ]
  },
  {
   "cell_type": "markdown",
   "id": "29747d24-dce8-463f-9fac-2b5d5388b716",
   "metadata": {},
   "source": [
    "#### 2.3.1. Git conflicts\n",
    "If the same file is both edited in two different brancehs, merging them will cause an error. After merging, we can locate the source of conflict by opening the file with `nano [filename]`."
   ]
  },
  {
   "cell_type": "markdown",
   "id": "d064dcb6-1a80-4119-98d8-269cd2ff4faa",
   "metadata": {},
   "source": [
    "```\n",
    "<<<<<<< HEAD\n",
    "=======\n",
    "A) Write report.\n",
    "B) Submit report.\n",
    ">>>>>>> [branch2]\n",
    "C) Submit expenses.\n",
    "```\n",
    "\n",
    "* `<<<<<<< HEAD`: indcates that the lines beneath it contain the file's contents in the latest commit of the *current branch*.\n",
    "* `=======`: refers to the center of the conflict. THis being right below the first line indiactes that the lines beneath it are part of the file versions in the latest commit of the current branch. However, if the equal signs are after some content, this meas that the two files have different content on the same lines in different branches.\n",
    "* `>>>>>>>`: indicates the second branch."
   ]
  },
  {
   "cell_type": "markdown",
   "id": "26ad43a6-c8b7-4845-a5e8-d5419501cf10",
   "metadata": {},
   "source": [
    "#### 2.3.3. How do we avoid conflicts?\n",
    "\n",
    "* Prevention is better than cure.\n",
    "* Use each branch for a specific task.\n",
    "* Avoid editing a file in multiple branches."
   ]
  },
  {
   "cell_type": "markdown",
   "id": "343b7150-9ef4-4429-8b80-fdb95c0a0af0",
   "metadata": {},
   "source": [
    "### 2.4. Erasing Git from a project"
   ]
  },
  {
   "cell_type": "markdown",
   "id": "149dbed4-36be-4eda-b77a-ef3c9d79f8ef",
   "metadata": {},
   "source": [
    "#### 2.4.1. Removing Git\n",
    "  * `rm -rf .git`: removes Git from the project"
   ]
  },
  {
   "cell_type": "markdown",
   "id": "895e40cf-e171-4b55-bd25-7cd96ed50a60",
   "metadata": {},
   "source": [
    "#### 2.4.2. Verifying Git is removed\n",
    "* `git status`: verifies whether Git is removed"
   ]
  },
  {
   "cell_type": "markdown",
   "id": "48afe920-e835-4cd6-996f-16c763be0589",
   "metadata": {},
   "source": [
    "## 3. Collaborating with Git"
   ]
  },
  {
   "cell_type": "markdown",
   "id": "22845d57-7ae6-41ff-b05a-2e9064e2a9aa",
   "metadata": {},
   "source": [
    "### 3.1. Local Repositories"
   ]
  },
  {
   "cell_type": "markdown",
   "id": "2c2b9060-de4e-4db1-befb-b0662c0235b4",
   "metadata": {},
   "source": [
    "#### 3.1.1. Creating repos\n",
    "* `git init [reponame]`: creates a new repository\n",
    "* `git init`: converts an existing project(directory) into a Git repository"
   ]
  },
  {
   "cell_type": "markdown",
   "id": "73a95874-c1fa-4e72-8791-14a87f0d3031",
   "metadata": {},
   "source": [
    "#### 3.1.2. Caution for nested repositories\n",
    "Nested repo is a Git repo inside another Git repo. There will be two `.git` directories per project, so Git wouldn't be able to identify which to update."
   ]
  },
  {
   "cell_type": "markdown",
   "id": "1e0b78d1-7860-44f9-858c-613435b4c783",
   "metadata": {},
   "source": [
    "### 3.2. Pulling remotes\n",
    "* **Local Repos**: are repos stored on the computer\n",
    "*  **Remote Repos**: help us collaborate with colleagues(mostly through **Github**)"
   ]
  },
  {
   "cell_type": "markdown",
   "id": "5a7219c4-3e21-4b76-924e-3a9c18d75a85",
   "metadata": {},
   "source": [
    "#### 3.2.1. Cloning a repo\n",
    "Cloning is copying existing repos, local or remote, to the local computer's current working directory.\n",
    "\n",
    "* `git clone [local repo path]`: clones a local repo\n",
    "* `git clone [local repo path] [new name]`: clones a local repo and gives new name\n",
    "* `git clone [URL]`: clones a remote repo"
   ]
  },
  {
   "cell_type": "markdown",
   "id": "440476a1-b72e-4122-b9fd-2311d4d188d7",
   "metadata": {},
   "source": [
    "Whenever we clone a repo, Git stores a remote tag in the new repo's configuration to track where the original was. If we are in a repo, we can check the names of its remotes through `git remote` or `git remote -v`."
   ]
  },
  {
   "cell_type": "markdown",
   "id": "8ac6d919-ee86-4613-875f-72e8983a1fb9",
   "metadata": {},
   "source": [
    "#### 3.2.2. Naming a remote\n",
    "When cloning, Git automatically names the remote `origin`.\\\n",
    "We can manually name the remote like writing `\\label{tag}` in LateX to create labels.\n",
    "\n",
    "* `git remote add [name] [URL]`: names the remote repo"
   ]
  },
  {
   "cell_type": "markdown",
   "id": "7886cd32-6dab-4681-8db8-92a4aa076722",
   "metadata": {},
   "source": [
    "#### 3.2.3. Gathering from a remote\n",
    "* `git fetch [remote name] [local branch]`: fetches a Git remote with the specified name into the specified branch\n",
    "* `git merge [remote name] [local branch]`: merges the local repo's local branch to the specified remote"
   ]
  },
  {
   "cell_type": "markdown",
   "id": "bacf2639-d590-4063-993d-940077238136",
   "metadata": {},
   "source": [
    "`git pull` is equivalent to requesting both `git fetch` and `git merge`.\n",
    "* `git pull [remote name] [local name]`: fetches and merges the remote to the local"
   ]
  },
  {
   "cell_type": "markdown",
   "id": "6bf6c255-282c-40d2-b6c3-b251b2a2d5f8",
   "metadata": {},
   "source": [
    "It is important to save locally before pulling from a remote. If there is a change made in the local repo that is neither staged nor committed and then try to pull a remote, Git tells us that local changes would be overwritten and aborts the pull."
   ]
  },
  {
   "cell_type": "markdown",
   "id": "0dfbe8fa-9270-47d6-9220-d875d9ccaf9f",
   "metadata": {},
   "source": [
    "### 3.3. Pushing to a remote"
   ]
  },
  {
   "cell_type": "markdown",
   "id": "2212113c-2856-47ea-996e-0d8cb24cc09d",
   "metadata": {},
   "source": [
    "#### 3.3.1. Pushing to a remote\n",
    "After saving changes locally, one can push the new repo to a remote.\n",
    "* `git push [remote name] [local branch]`: pushes the updated local to the specified remote"
   ]
  },
  {
   "cell_type": "markdown",
   "id": "df98bb89-5ca6-4d66-a4bd-6059c4970400",
   "metadata": {},
   "source": [
    "#### 3.3.2. Push/pull workflow\n",
    "Pulling a remote into the local repo comes before pushing the local to a remote. If you don't start the workflow by pulling from the remote, Git can display conflicts. Thus, you have to start with pulling a remote first."
   ]
  },
  {
   "cell_type": "code",
   "execution_count": null,
   "id": "0c7c7939-ab05-4f25-938b-bd8493e5d62c",
   "metadata": {},
   "outputs": [],
   "source": []
  }
 ],
 "metadata": {
  "kernelspec": {
   "display_name": "Python 3 (ipykernel)",
   "language": "python",
   "name": "python3"
  },
  "language_info": {
   "codemirror_mode": {
    "name": "ipython",
    "version": 3
   },
   "file_extension": ".py",
   "mimetype": "text/x-python",
   "name": "python",
   "nbconvert_exporter": "python",
   "pygments_lexer": "ipython3",
   "version": "3.12.4"
  }
 },
 "nbformat": 4,
 "nbformat_minor": 5
}
