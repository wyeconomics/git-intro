{
 "cells": [
  {
   "cell_type": "markdown",
   "id": "a9e8e0d0-449d-432f-96aa-aed15da1acfd",
   "metadata": {},
   "source": [
    "# Introduction to Github"
   ]
  },
  {
   "cell_type": "markdown",
   "id": "af157a86-ecb9-490f-b664-6247c3b4f26b",
   "metadata": {},
   "source": [
    "<div style=\"text-align: right\"> Wooyong Park, Yonsei University </div>\n",
    "<div style=\"text-align: right\"> Material from Datacamp </div>"
   ]
  },
  {
   "cell_type": "markdown",
   "id": "6a3f4042-d7d5-4ccc-b1ab-abb7e7d113f5",
   "metadata": {},
   "source": [
    "## Github\n",
    "\n",
    "* is a cloud-based hosting service\n",
    "* allows users to store and track their work(a.k.a. version control)\n",
    "* provides on-demand resources over the internet, such as storage"
   ]
  },
  {
   "cell_type": "markdown",
   "id": "dafa2484-5db8-471f-9e37-b35735f036fe",
   "metadata": {},
   "source": [
    "## Github vs Git\n",
    "\n",
    "1. Github\n",
    "   * enhances Git\n",
    "   * makes easier to manage projects and collaborate\n",
    "   * can't use Github without Git\n",
    "\n",
    "2. Git\n",
    "   * is a version control software\n",
    "   * can be used without Github or any hosting platform\n"
   ]
  },
  {
   "cell_type": "markdown",
   "id": "7f09d81e-1a20-4805-8b79-f770f7c69f9e",
   "metadata": {},
   "source": [
    "## Creating a new repo\n",
    "\n",
    "In Github, you can create a new repository in the repostiory section. After that, you have to initialize with manual modification of the following options.\n",
    "\n",
    "* `Add a README file`: adds a markdown file with long description of the project.\n",
    "* `Add .gitignore`: chooses which files not to track from a list of templates. It specifies the files not to be committed or saved into the repo. These files usually contain confidential information or are system files.\n",
    "* `Choose a license`: if set to `None`, it means default copyright laws apply."
   ]
  },
  {
   "cell_type": "markdown",
   "id": "c83f292a-07ed-432c-bde9-17a6271fff3a",
   "metadata": {},
   "source": [
    "## Navigating a repo\n",
    "In the upper banner, the following sections are displayed:\n",
    "\n",
    "* `Code`: is where all the folders and files are visible, including the `README` file and the `.gitignore`.\n",
    "* `Issues`: is where we track tasks or problems and also communicate with others.\n",
    "* `Pull Request`: is a request to make a change to the project, just like a suggestion box. It shows the suggested changes and compare them to the project's current version. We are able to decide whether we want to accept it or not.\n",
    "* `Settings`: is where we can modify the repo settings"
   ]
  },
  {
   "cell_type": "markdown",
   "id": "a212c309-31ed-46be-b94e-c791160b5985",
   "metadata": {},
   "source": [
    "## Creating a README\n",
    "In the `Code` section, regardless of the number of files we have, the README will always show after the list of files. It is a markdown file. So you should know the basic markdown syntax to write it effectively."
   ]
  },
  {
   "cell_type": "markdown",
   "id": "5665d3f3-add8-4efe-bddf-d18d0812aebd",
   "metadata": {},
   "source": [
    "### Markdown Syntax"
   ]
  },
  {
   "cell_type": "markdown",
   "id": "38e4e817-4419-4b33-8073-f3ae26215ee0",
   "metadata": {},
   "source": [
    "### 1. Headings"
   ]
  },
  {
   "cell_type": "markdown",
   "id": "735c467b-31f6-4ab9-be4e-58cf988f5b69",
   "metadata": {},
   "source": [
    "### Code Block\n",
    "```\n",
    "# Heading 1\n",
    "## Heading 2\n",
    "### Heading 3\n",
    "#### Heading 4\n",
    "##### Heading 5\n",
    "###### Heading 6\n",
    "```\n",
    "\n",
    "### Output\n",
    "# Heading 1\n",
    "## Heading 2\n",
    "### Heading 3\n",
    "#### Heading 4\n",
    "##### Heading 5\n",
    "###### Heading 6"
   ]
  },
  {
   "cell_type": "markdown",
   "id": "ca748558-7b81-439b-87b4-32f7bd333ab5",
   "metadata": {},
   "source": [
    "### 2. Bold and italics"
   ]
  },
  {
   "cell_type": "markdown",
   "id": "aaa86016-0283-4ed9-8e5c-e9a7406091af",
   "metadata": {},
   "source": [
    "### Code Block\n",
    "```\n",
    "*italics*\n",
    "\n",
    "**bold**\n",
    "\n",
    "***bold italics***\n",
    "```\n",
    "\n",
    "### Output\n",
    "*italics*\n",
    "\n",
    "**bold**\n",
    "\n",
    "***bold italics***\n"
   ]
  },
  {
   "cell_type": "markdown",
   "id": "126914cc-5da9-4bc1-889a-9078fbcf2d82",
   "metadata": {},
   "source": [
    "### 3. Hyperlinks"
   ]
  },
  {
   "cell_type": "markdown",
   "id": "bcc09230-0938-490c-9425-bca21601017b",
   "metadata": {},
   "source": [
    "### Code Block\n",
    "```\n",
    "[Google Scholar](https://scholar.google.com/)\n",
    "```\n",
    "\n",
    "### Output\n",
    "[Google Scholar](https://scholar.google.com/)"
   ]
  },
  {
   "cell_type": "markdown",
   "id": "b34a843c-b0e9-494d-883f-b6be4ec3d1c4",
   "metadata": {},
   "source": [
    "### 4. Images"
   ]
  },
  {
   "cell_type": "markdown",
   "id": "9a4cafc6-bb2c-4a4a-bcb6-933fb042ecfc",
   "metadata": {},
   "source": [
    "The text in the square brackets is alternative text, which appears in place of the image if it fails to laod and is used by screen readers. Drag and drop an image and Github automatically renders the code.\n",
    "### Code Block\n",
    "```\n",
    "![Alt Text]()\n",
    "```\n"
   ]
  },
  {
   "cell_type": "markdown",
   "id": "05f02aee-c2bc-41aa-95e7-183f3cd862e5",
   "metadata": {},
   "source": [
    "## Modifying a repo structure\n",
    "\n",
    "### Working with branches"
   ]
  },
  {
   "cell_type": "markdown",
   "id": "4ebf1c24-e07f-40a6-a64b-df9fd1a1baa7",
   "metadata": {},
   "source": [
    "#### Branches\n",
    "* enable concurrent work on different parts of a project\n",
    "* help reduce the risk of conflicting file versions"
   ]
  },
  {
   "cell_type": "markdown",
   "id": "d2fdd035-4a65-4094-a418-190bd3523883",
   "metadata": {},
   "source": [
    "When we create a repo, there will be one branch called `main`, and in the `code` section on the banner, we can see which branch we currently are located in."
   ]
  },
  {
   "cell_type": "markdown",
   "id": "0bd04bca-18ae-43ed-a737-35ff35a43087",
   "metadata": {},
   "source": [
    "#### Creating a new branch\n",
    "By clicking on the `branch` icon in the `code` section, we can create a new branch. Click on `New branch` button to create a branch.\n",
    "\n",
    "Specifiying the branch source makes the new branch initially look like the source branch."
   ]
  },
  {
   "cell_type": "markdown",
   "id": "750819ef-1fa5-4171-9e0b-9f90f37b288b",
   "metadata": {},
   "source": [
    "#### When and when not branches are needed\n",
    "\n",
    "1. **Small solo project**\n",
    "   We can probably work exclusively on the main branch.\n",
    "2. **Working with others**\n",
    "   People would work on different project tasks simultaneously. Thus, everyone working in the main branch would mean that the files might conflict each other. Thus, we let the main branch hold only the final versions of the collaboration."
   ]
  },
  {
   "cell_type": "markdown",
   "id": "82c74c2e-52fb-4a50-a45f-5dba99a38383",
   "metadata": {},
   "source": [
    "#### Branch protection rules\n",
    "Github offers a way to enforce rules for how we use specific branches.\n",
    "\n",
    "For example, it can enforce a rule requiring pull requests to be approved before a merge can occur, which may help improve code quality. Or also, we might also restricted who can delete a protected branch.\n",
    "\n",
    "To to this, go to `Settings` &rarr; `Branches` &rarr; `Add rule`."
   ]
  },
  {
   "cell_type": "markdown",
   "id": "9c2d409c-bc49-4dc6-a6e0-deda2f932f05",
   "metadata": {},
   "source": [
    "### Repo access"
   ]
  },
  {
   "cell_type": "markdown",
   "id": "86c769cc-ed66-45a8-8bf4-190714d0335b",
   "metadata": {},
   "source": [
    "#### Restricting Access\n",
    "To restrict access, we can turn a public repo into a private repo.\n",
    "\n",
    "Furthermore, if we go to `Settings` &rarr; `Access` &rarr; `Collaborators`, then we can give access to specified people by entering their username or email. "
   ]
  },
  {
   "cell_type": "markdown",
   "id": "8ff73494-8457-4748-a4ee-8f2dcefcb956",
   "metadata": {},
   "source": [
    "#### Personal Access Tokens(PAT)\n",
    "We can acess Github via Git in the terminal shell. For example, the following `clone` command would ask the username and password in Github to allow you to clone the remote repository.\n",
    "\n",
    "```\n",
    "git clone https://github.com/username_repo_name\n",
    "Username for `https://github.com'\n",
    "Username for `https://username@github.com'\n",
    "```"
   ]
  },
  {
   "cell_type": "markdown",
   "id": "21dc2642-d65f-4c15-9f8b-d1523ad6cf24",
   "metadata": {},
   "source": [
    "However, this might return a `fatal`, telling us that the password authentication was removed, along with a further guidance URL.\n",
    "\n",
    "The webpage titled **Cloning with HTTPS URLS** tells us that we should provide a personal access token(PAT)."
   ]
  },
  {
   "cell_type": "markdown",
   "id": "9961500a-a0c0-4d55-ac20-7bb542bb1e82",
   "metadata": {},
   "source": [
    "**Personal Access Token(PAT)**\n",
    "\n",
    "* An alternative to using passwords for authentication in the terminal\n",
    "* Required since August 2021 instead of passwords\n",
    "* More Secure"
   ]
  },
  {
   "cell_type": "markdown",
   "id": "86754919-fc08-4a53-b2e3-33100aaca318",
   "metadata": {},
   "source": [
    "**How to create one**\n",
    ": `Settings` &rarr; `Developer Settings` &rarr; `Personal access tokens` &rarr; `Generate new token`\n"
   ]
  },
  {
   "cell_type": "markdown",
   "id": "1a8956d5-424c-4dd9-b3b5-ec6a6a357a17",
   "metadata": {},
   "source": [
    "## Using other repos"
   ]
  },
  {
   "cell_type": "markdown",
   "id": "52749d8d",
   "metadata": {},
   "source": [
    "### Cloning\n",
    "\n",
    "Cloning a repo is similar to copy-paste. However, it is linked to the original repo in that it allows us to make updates back and forth to the repo from our local computer.\n",
    "\n",
    "With Git, we can push changes back to the original repo(the remote one), or pull changes into our local version. In case of cloning a private repo, however, the owner needs to grant access.\n",
    "\n",
    "**How to clone a repo from Github**: Go to the repo website &rarr; `Code` &rarr; copy the `HTTPS` &rarr; in Git, `git clone [HTTPS]`"
   ]
  },
  {
   "cell_type": "markdown",
   "id": "3277f8b5",
   "metadata": {},
   "source": [
    "### Forking\n",
    "Forking is copying a repo without linking back to it. A fork of a repo creates an independent copy of it on our Github, meaning we can run experiments without the risk of anything reaching the original repo. This option is widely used for collaboration. \n",
    "\n",
    "**How to fork a repo from Github**: Go to the repo website &rarr; `Fork` &rarr; `Create a new fork` &rarr; select the owner &rarr; add a name to the forked repo &rarr; select the branch to copy &rarr; `Create Fork`"
   ]
  },
  {
   "cell_type": "markdown",
   "id": "c6d20e22",
   "metadata": {
    "vscode": {
     "languageId": "plaintext"
    }
   },
   "source": [
    "### Clone vs Fork\n",
    "\n",
    "Cloning creates a *linked copy* on our computer, requires using Git, and updates are sent via the push and pull commands on Git. Forking creates an *independent copy* of a repo on Github, and changes are submitted through a pull request or PR. Both works fine but forking is safer for experimentation."
   ]
  },
  {
   "cell_type": "markdown",
   "id": "35f90efa",
   "metadata": {},
   "source": [
    "## Communicating through Github Issues"
   ]
  },
  {
   "cell_type": "markdown",
   "id": "eee2746a-868b-422f-8d12-a4a3ca3e3f05",
   "metadata": {},
   "source": [
    "Github issues are messages to track problem fixes, plans, important tasks, and communications for a project."
   ]
  },
  {
   "cell_type": "markdown",
   "id": "1f2fff17-ffad-4cbe-99c7-3ee807d74f8e",
   "metadata": {},
   "source": [
    "### Creating a new issue\n",
    "\n",
    "* `Issues` (in the header) &rarr; `New Issue` &rarr; Add titles and issues\n",
    "\n",
    "Github issues follow markdown syntax."
   ]
  },
  {
   "cell_type": "markdown",
   "id": "bef31ccd-b7c1-4c2f-afaf-7da83b7eb688",
   "metadata": {},
   "source": [
    "### Assigning an issue to a collaborator\n",
    "* `Issues` &rarr; `Assignees` &rarr; assign upto 10 people to the issue"
   ]
  },
  {
   "cell_type": "markdown",
   "id": "805d22d1-8b67-4198-9ad6-5493f0d8995d",
   "metadata": {},
   "source": [
    "### Tagging a collaborator to the issue\n",
    "While assigning clarifies who should be working on the issue, tagging a user is a more casual way of notifying the right people to read the message. We can do this by adding `@[username]` in the issue.\n"
   ]
  },
  {
   "cell_type": "markdown",
   "id": "be729ff7-2d61-4d73-b3c9-43dd4be25969",
   "metadata": {},
   "source": [
    "### Commenting on an issue\n",
    "Below an issue, there is a comment box so that we can add more text using markdown to leave a comment on the issue."
   ]
  },
  {
   "cell_type": "markdown",
   "id": "04484b0f-cfde-4544-a8d7-b3817e140aa2",
   "metadata": {},
   "source": [
    "### Linking to another issue\n",
    "\n",
    "It's possible that sometimes issues can be related. Typing a single hashtag(`#`) displays other issues in the same repo. By choosing the issue to link, we can refer to other related issues."
   ]
  },
  {
   "cell_type": "markdown",
   "id": "78922d96-f4fe-4fc2-8711-e113043eb68b",
   "metadata": {},
   "source": [
    "### Closing an issue\n",
    "Once everything in the issue has been addressed, we can close the issue by hitting `Close with comment` button. There are two options in closing:\n",
    "* **close as completed(default)**: indicates that items in the issue were successfully addressed\n",
    "* **close as not planned**: indicates that a fix was not possible"
   ]
  },
  {
   "cell_type": "markdown",
   "id": "df955d32-fe1d-44d4-92e6-ab8bd487eb9f",
   "metadata": {},
   "source": [
    "## Pull Request(PR)\n",
    "Pull request is a way to notify others(including the repo owner) that we want to make a change to any branch within a repo. After the repo owner checks and allows the change, it can be added to the Github repo.\n",
    "\n",
    "It is safe not to add changes to the default main branch directly, but to add it to another branch. Then, by merging the two branches, the purpose of PR is fulfilled."
   ]
  },
  {
   "cell_type": "markdown",
   "id": "552a5ec3-b0df-45f9-90c8-0312c83cef24",
   "metadata": {},
   "source": [
    "### Reviewing Pull Requests\n"
   ]
  }
 ],
 "metadata": {
  "kernelspec": {
   "display_name": "Python 3 (ipykernel)",
   "language": "python",
   "name": "python3"
  },
  "language_info": {
   "codemirror_mode": {
    "name": "ipython",
    "version": 3
   },
   "file_extension": ".py",
   "mimetype": "text/x-python",
   "name": "python",
   "nbconvert_exporter": "python",
   "pygments_lexer": "ipython3",
   "version": "3.11.7"
  }
 },
 "nbformat": 4,
 "nbformat_minor": 5
}
